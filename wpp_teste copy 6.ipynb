{
 "cells": [
  {
   "cell_type": "code",
   "execution_count": 14,
   "metadata": {},
   "outputs": [],
   "source": [
    "from selenium import webdriver\n",
    "from selenium.webdriver.common.keys import Keys\n",
    "from selenium.webdriver.common.by import By\n",
    "from selenium.webdriver.chrome.options import Options\n",
    "from selenium.webdriver.support.wait import WebDriverWait\n",
    "from selenium.webdriver.support import expected_conditions as EC\n",
    "from selenium.webdriver import Keys, ActionChains\n",
    "import time, os\n",
    "\n",
    "profile = 'Default'#Jaque\n",
    "profile = 'Profile 2'#Vó\n",
    "profile = 'Profile 7'#Mineiro\n",
    "\n",
    "options = webdriver.ChromeOptions()\n",
    "options.add_argument(\"user-data-dir=C:/Users/Felipe/AppData/Local/Google/Chrome/User Data\")\n",
    "options.add_argument(f'profile-directory={profile}')\n",
    "##options.add_argument('headless')\n",
    "\n",
    "driver = webdriver.Chrome(options=options)\n",
    "\n"
   ]
  },
  {
   "cell_type": "code",
   "execution_count": 1,
   "metadata": {},
   "outputs": [
    {
     "name": "stdout",
     "output_type": "stream",
     "text": [
      "15\n"
     ]
    }
   ],
   "source": [
    "import time\n",
    "print(time.strftime('%H'))"
   ]
  },
  {
   "cell_type": "code",
   "execution_count": 52,
   "metadata": {},
   "outputs": [],
   "source": [
    "import sqlite3\n",
    "from pathlib import Path\n",
    "\n",
    "ROOT_DIR = Path('').parent\n",
    "DB_NAME = 'db.sqlite3'\n",
    "DB_FILE = ROOT_DIR / DB_NAME\n",
    "connection = sqlite3.connect(DB_FILE)\n",
    "cursor = connection.cursor()\n",
    "\n",
    "for page in range(1,11):\n",
    "    driver.get(f'https://www.mercadolivre.com.br/vendas/omni/lista?startPeriod=WITH_DATE_CLOSED_6M_OLD&sort=DATE_CLOSED_DESC&page={page}')\n",
    "\n",
    "    vendas_lista_html = \\\n",
    "        driver.find_elements(By.CSS_SELECTOR, '#desktop > div.sc-page > div > div.sc-tab-content > div > div.sc-list.sc-list-marketplace > div.andes-card')\n",
    "    \n",
    "\n",
    "    for venda_html in vendas_lista_html:\n",
    "        produto  = compra_html.find_element(By.TAG_NAME, 'a').text\n",
    "        vendedor = compra_html.find_element(By.CSS_SELECTOR, 'div.list-item > div.text-with-link > span > span').text\n",
    "        codigo   = compra_html.find_element(By.CSS_SELECTOR, \n",
    "                                            'div.list-item > div.bf-ui-button-container.bf-ui-button-container--vertical.bf-ui-button-container--transparent')\\\n",
    "                                            .find_element(By.TAG_NAME, 'a').get_attribute('href')\n",
    "        status = compra_html.find_element(By.CSS_SELECTOR,'div.list-item > div.list-item__product > div > p.list-item__intro > span').text.lower()\n",
    "        \n",
    "        if status == 'entregue':\n",
    "            cursor.execute(\n",
    "                f'SELECT COUNT(id) FROM compras WHERE numero = \"{codigo}\"'\n",
    "            )\n",
    "            result = cursor.fetchone()[0]\n",
    "            if not result > 0:\n",
    "                comando_sql = f'INSERT INTO compras (produto, vendedor, numero) VALUES (\"{produto}\",\"{vendedor}\",\"{codigo}\")'\n",
    "                cursor.execute(\n",
    "                    comando_sql\n",
    "                )\n",
    "        \n",
    "connection.commit()\n",
    "cursor.close()\n",
    "connection.close()\n"
   ]
  },
  {
   "cell_type": "markdown",
   "metadata": {},
   "source": [
    "Funções de envio de mensagem e shit_enter(para quebrar linha dentro do input de msg)"
   ]
  },
  {
   "cell_type": "code",
   "execution_count": 3,
   "metadata": {},
   "outputs": [],
   "source": [
    "def shift_enter(driver):\n",
    "        ActionChains(driver)\\\n",
    "            .key_down(Keys.SHIFT)\\\n",
    "            .send_keys(Keys.ENTER)\\\n",
    "            .key_up(Keys.SHIFT)\\\n",
    "            .perform()\n",
    "    \n",
    "\n",
    "def envia_msg(nome, telefone, msg, enviar=True):\n",
    "    driver.get(f'https://web.whatsapp.com/send?phone={telefone}')\n",
    "    \n",
    "    input_box_msg = WebDriverWait.__class__\n",
    "    # Esperar para encontrar o input\n",
    "    input_box_msg = WebDriverWait(driver, 10).until(\n",
    "        EC.presence_of_element_located(\n",
    "            (By.CSS_SELECTOR, '#main > footer > div._2lSWV._3cjY2.copyable-area > div > span:nth-child(2) > div > div._1VZX7 > div._3Uu1_ > div.g0rxnol2.ln8gz9je.lexical-rich-text-input > div.to2l77zo.gfz4du6o.ag5g9lrv.bze30y65.kao4egtt > p')\n",
    "        )\n",
    "    )\n",
    "\n",
    "    input_box_msg.send_keys(f'Olá {nome}')\n",
    "    #shift_enter(driver)\n",
    "    if type(msg) == str:\n",
    "        input_box_msg.send_keys(msg)\n",
    "    if type(msg) == set:\n",
    "        for m in msg:\n",
    "            input_box_msg.send_keys(m[0]+' - '+m[1])\n",
    "            shift_enter(driver)\n",
    "            shift_enter(driver)\n",
    "    if enviar:\n",
    "        #Enter para enviar msg\n",
    "        input_box_msg.send_keys(Keys.ENTER)\n",
    "\n",
    "    time.sleep(1)"
   ]
  },
  {
   "cell_type": "code",
   "execution_count": 4,
   "metadata": {},
   "outputs": [
    {
     "ename": "AttributeError",
     "evalue": "'WebElement' object has no attribute 'key_down'",
     "output_type": "error",
     "traceback": [
      "\u001b[1;31m---------------------------------------------------------------------------\u001b[0m",
      "\u001b[1;31mAttributeError\u001b[0m                            Traceback (most recent call last)",
      "Cell \u001b[1;32mIn[4], line 23\u001b[0m\n\u001b[0;32m     21\u001b[0m         produto, vendedor \u001b[39m=\u001b[39m compra\n\u001b[0;32m     22\u001b[0m         compras\u001b[39m.\u001b[39madd((produto, vendedor,))\n\u001b[1;32m---> 23\u001b[0m     envia_msg(nome, telefone, compras, \u001b[39mFalse\u001b[39;49;00m)\n\u001b[0;32m     24\u001b[0m \u001b[39mexcept\u001b[39;00m TimeoutException \u001b[39mas\u001b[39;00m err:\n\u001b[0;32m     25\u001b[0m     cursor\u001b[39m.\u001b[39mexecute(\u001b[39mf\u001b[39m\u001b[39m'\u001b[39m\u001b[39mUPDATE envios SET log = \u001b[39m\u001b[39m\"\u001b[39m\u001b[39mTempo excedido ou telefone inválido\u001b[39m\u001b[39m\"\u001b[39m\u001b[39m WHERE id = \u001b[39m\u001b[39m{\u001b[39;00mcod\u001b[39m}\u001b[39;00m\u001b[39m'\u001b[39m)\n",
      "Cell \u001b[1;32mIn[3], line 28\u001b[0m, in \u001b[0;36menvia_msg\u001b[1;34m(nome, telefone, msg, enviar)\u001b[0m\n\u001b[0;32m     26\u001b[0m     \u001b[39mfor\u001b[39;00m m \u001b[39min\u001b[39;00m msg:\n\u001b[0;32m     27\u001b[0m         input_box_msg\u001b[39m.\u001b[39msend_keys(m[\u001b[39m0\u001b[39m]\u001b[39m+\u001b[39m\u001b[39m'\u001b[39m\u001b[39m - \u001b[39m\u001b[39m'\u001b[39m\u001b[39m+\u001b[39mm[\u001b[39m1\u001b[39m])\n\u001b[1;32m---> 28\u001b[0m         input_box_msg\u001b[39m.\u001b[39;49mkey_down(Keys\u001b[39m.\u001b[39mSHIFT)\u001b[39m.\u001b[39msend_keys(Keys\u001b[39m.\u001b[39mENTER)\u001b[39m.\u001b[39msend_keys(Keys\u001b[39m.\u001b[39mENTER)\u001b[39m.\u001b[39mkey_up(Keys\u001b[39m.\u001b[39mSHIFT)\u001b[39m.\u001b[39mshift_enter(driver)\n\u001b[0;32m     29\u001b[0m \u001b[39mif\u001b[39;00m enviar:\n\u001b[0;32m     30\u001b[0m     \u001b[39m#Enter para enviar msg\u001b[39;00m\n\u001b[0;32m     31\u001b[0m     input_box_msg\u001b[39m.\u001b[39msend_keys(Keys\u001b[39m.\u001b[39mENTER)\n",
      "\u001b[1;31mAttributeError\u001b[0m: 'WebElement' object has no attribute 'key_down'"
     ]
    }
   ],
   "source": [
    "import sqlite3\n",
    "from pathlib import Path\n",
    "from selenium.common.exceptions import TimeoutException\n",
    "\n",
    "ROOT_DIR = Path('').parent\n",
    "DB_NAME = 'db.sqlite3'\n",
    "DB_FILE = ROOT_DIR / DB_NAME\n",
    "\n",
    "connection = sqlite3.connect(DB_FILE)\n",
    "cursor = connection.cursor()\n",
    "log_erro = set()\n",
    "#ler para quem enviar e números\n",
    "cursor.execute(f'SELECT id, nome, telefone FROM envios')\n",
    "\n",
    "for row in cursor.fetchall():\n",
    "    cod, nome, telefone = row\n",
    "    try:\n",
    "        compras = set()\n",
    "        cursor.execute('SELECT produto, vendedor FROM compras')\n",
    "        for compra in cursor.fetchall():\n",
    "            produto, vendedor = compra\n",
    "            compras.add((produto, vendedor,))\n",
    "        envia_msg(nome, telefone, compras, False)\n",
    "    except TimeoutException as err:\n",
    "        cursor.execute(f'UPDATE envios SET log = \"Tempo excedido ou telefone inválido\" WHERE id = {cod}')\n",
    "\n",
    "connection.commit()\n",
    "\n",
    "cursor.close()\n",
    "connection.close()"
   ]
  },
  {
   "cell_type": "code",
   "execution_count": 49,
   "metadata": {},
   "outputs": [
    {
     "name": "stdout",
     "output_type": "stream",
     "text": [
      "c:\\Users\\gusta\\Projects\\wpp_v1\\envios.xlsx c:\\Users\\gusta\\Projects\\wpp_v1\\envios2.xlsx\n"
     ]
    },
    {
     "ename": "InvalidArgumentException",
     "evalue": "Message: invalid argument: File not found : c:\\Users\\gusta\\Projects\\wpp_v1\\envios.xlsx c:\\Users\\gusta\\Projects\\wpp_v1\\envios2.xlsx\n  (Session info: chrome=116.0.5845.140)\nStacktrace:\n\tGetHandleVerifier [0x00007FF7AF8F52A2+57122]\n\t(No symbol) [0x00007FF7AF86EA92]\n\t(No symbol) [0x00007FF7AF73E3AB]\n\t(No symbol) [0x00007FF7AF771CE5]\n\t(No symbol) [0x00007FF7AF796FDA]\n\t(No symbol) [0x00007FF7AF76EB76]\n\t(No symbol) [0x00007FF7AF7971F0]\n\t(No symbol) [0x00007FF7AF7AEB82]\n\t(No symbol) [0x00007FF7AF796DB3]\n\t(No symbol) [0x00007FF7AF76D2B1]\n\t(No symbol) [0x00007FF7AF76E494]\n\tGetHandleVerifier [0x00007FF7AFB9EF82+2849794]\n\tGetHandleVerifier [0x00007FF7AFBF1D24+3189156]\n\tGetHandleVerifier [0x00007FF7AFBEACAF+3160367]\n\tGetHandleVerifier [0x00007FF7AF986D06+653702]\n\t(No symbol) [0x00007FF7AF87A208]\n\t(No symbol) [0x00007FF7AF8762C4]\n\t(No symbol) [0x00007FF7AF8763F6]\n\t(No symbol) [0x00007FF7AF8667A3]\n\tBaseThreadInitThunk [0x00007FFE99C726AD+29]\n\tRtlUserThreadStart [0x00007FFE9B90AA68+40]\n",
     "output_type": "error",
     "traceback": [
      "\u001b[1;31m---------------------------------------------------------------------------\u001b[0m",
      "\u001b[1;31mInvalidArgumentException\u001b[0m                  Traceback (most recent call last)",
      "Cell \u001b[1;32mIn[49], line 10\u001b[0m\n\u001b[0;32m      8\u001b[0m s \u001b[39m=\u001b[39m os\u001b[39m.\u001b[39mpath\u001b[39m.\u001b[39mabspath(\u001b[39m'\u001b[39m\u001b[39menvios.xlsx\u001b[39m\u001b[39m'\u001b[39m) \u001b[39m+\u001b[39m\u001b[39m'\u001b[39m\u001b[39m \u001b[39m\u001b[39m'\u001b[39m\u001b[39m+\u001b[39m os\u001b[39m.\u001b[39mpath\u001b[39m.\u001b[39mabspath(\u001b[39m'\u001b[39m\u001b[39menvios2.xlsx\u001b[39m\u001b[39m'\u001b[39m)\n\u001b[0;32m      9\u001b[0m \u001b[39mprint\u001b[39m(s)\n\u001b[1;32m---> 10\u001b[0m input_file\u001b[39m.\u001b[39;49msend_keys(s)\n\u001b[0;32m     11\u001b[0m time\u001b[39m.\u001b[39msleep(\u001b[39m5\u001b[39m)\n\u001b[0;32m     13\u001b[0m \u001b[39m\"\"\"\u001b[39;00m\n\u001b[0;32m     14\u001b[0m \u001b[39m#Acha o input de arq 2\u001b[39;00m\n\u001b[0;32m     15\u001b[0m \u001b[39minput_file2 = driver.find_element(By.CSS_SELECTOR, '#app > div > div > div._2QgSC > div._2Ts6i._2xAQV > span > div > span > div > div > div.g0rxnol2.thghmljt.p357zi0d.rjo8vgbg.ggj6brxn.f8m0rgwh.gfz4du6o.r7fjleex.bs7a17vp.ov67bkzj > div > input[type=file]')\u001b[39;00m\n\u001b[1;32m   (...)\u001b[0m\n\u001b[0;32m     22\u001b[0m \u001b[39mtime.sleep(5)\u001b[39;00m\n\u001b[0;32m     23\u001b[0m \u001b[39m\"\"\"\u001b[39;00m\n",
      "File \u001b[1;32m~\\AppData\\Local\\Packages\\PythonSoftwareFoundation.Python.3.10_qbz5n2kfra8p0\\LocalCache\\local-packages\\Python310\\site-packages\\selenium\\webdriver\\remote\\webelement.py:231\u001b[0m, in \u001b[0;36mWebElement.send_keys\u001b[1;34m(self, *value)\u001b[0m\n\u001b[0;32m    228\u001b[0m             remote_files\u001b[39m.\u001b[39mappend(\u001b[39mself\u001b[39m\u001b[39m.\u001b[39m_upload(file))\n\u001b[0;32m    229\u001b[0m         value \u001b[39m=\u001b[39m \u001b[39m\"\u001b[39m\u001b[39m\\n\u001b[39;00m\u001b[39m\"\u001b[39m\u001b[39m.\u001b[39mjoin(remote_files)\n\u001b[1;32m--> 231\u001b[0m \u001b[39mself\u001b[39;49m\u001b[39m.\u001b[39;49m_execute(\n\u001b[0;32m    232\u001b[0m     Command\u001b[39m.\u001b[39;49mSEND_KEYS_TO_ELEMENT, {\u001b[39m\"\u001b[39;49m\u001b[39mtext\u001b[39;49m\u001b[39m\"\u001b[39;49m: \u001b[39m\"\u001b[39;49m\u001b[39m\"\u001b[39;49m\u001b[39m.\u001b[39;49mjoin(keys_to_typing(value)), \u001b[39m\"\u001b[39;49m\u001b[39mvalue\u001b[39;49m\u001b[39m\"\u001b[39;49m: keys_to_typing(value)}\n\u001b[0;32m    233\u001b[0m )\n",
      "File \u001b[1;32m~\\AppData\\Local\\Packages\\PythonSoftwareFoundation.Python.3.10_qbz5n2kfra8p0\\LocalCache\\local-packages\\Python310\\site-packages\\selenium\\webdriver\\remote\\webelement.py:395\u001b[0m, in \u001b[0;36mWebElement._execute\u001b[1;34m(self, command, params)\u001b[0m\n\u001b[0;32m    393\u001b[0m     params \u001b[39m=\u001b[39m {}\n\u001b[0;32m    394\u001b[0m params[\u001b[39m\"\u001b[39m\u001b[39mid\u001b[39m\u001b[39m\"\u001b[39m] \u001b[39m=\u001b[39m \u001b[39mself\u001b[39m\u001b[39m.\u001b[39m_id\n\u001b[1;32m--> 395\u001b[0m \u001b[39mreturn\u001b[39;00m \u001b[39mself\u001b[39;49m\u001b[39m.\u001b[39;49m_parent\u001b[39m.\u001b[39;49mexecute(command, params)\n",
      "File \u001b[1;32m~\\AppData\\Local\\Packages\\PythonSoftwareFoundation.Python.3.10_qbz5n2kfra8p0\\LocalCache\\local-packages\\Python310\\site-packages\\selenium\\webdriver\\remote\\webdriver.py:345\u001b[0m, in \u001b[0;36mWebDriver.execute\u001b[1;34m(self, driver_command, params)\u001b[0m\n\u001b[0;32m    343\u001b[0m response \u001b[39m=\u001b[39m \u001b[39mself\u001b[39m\u001b[39m.\u001b[39mcommand_executor\u001b[39m.\u001b[39mexecute(driver_command, params)\n\u001b[0;32m    344\u001b[0m \u001b[39mif\u001b[39;00m response:\n\u001b[1;32m--> 345\u001b[0m     \u001b[39mself\u001b[39;49m\u001b[39m.\u001b[39;49merror_handler\u001b[39m.\u001b[39;49mcheck_response(response)\n\u001b[0;32m    346\u001b[0m     response[\u001b[39m\"\u001b[39m\u001b[39mvalue\u001b[39m\u001b[39m\"\u001b[39m] \u001b[39m=\u001b[39m \u001b[39mself\u001b[39m\u001b[39m.\u001b[39m_unwrap_value(response\u001b[39m.\u001b[39mget(\u001b[39m\"\u001b[39m\u001b[39mvalue\u001b[39m\u001b[39m\"\u001b[39m, \u001b[39mNone\u001b[39;00m))\n\u001b[0;32m    347\u001b[0m     \u001b[39mreturn\u001b[39;00m response\n",
      "File \u001b[1;32m~\\AppData\\Local\\Packages\\PythonSoftwareFoundation.Python.3.10_qbz5n2kfra8p0\\LocalCache\\local-packages\\Python310\\site-packages\\selenium\\webdriver\\remote\\errorhandler.py:229\u001b[0m, in \u001b[0;36mErrorHandler.check_response\u001b[1;34m(self, response)\u001b[0m\n\u001b[0;32m    227\u001b[0m         alert_text \u001b[39m=\u001b[39m value[\u001b[39m\"\u001b[39m\u001b[39malert\u001b[39m\u001b[39m\"\u001b[39m]\u001b[39m.\u001b[39mget(\u001b[39m\"\u001b[39m\u001b[39mtext\u001b[39m\u001b[39m\"\u001b[39m)\n\u001b[0;32m    228\u001b[0m     \u001b[39mraise\u001b[39;00m exception_class(message, screen, stacktrace, alert_text)  \u001b[39m# type: ignore[call-arg]  # mypy is not smart enough here\u001b[39;00m\n\u001b[1;32m--> 229\u001b[0m \u001b[39mraise\u001b[39;00m exception_class(message, screen, stacktrace)\n",
      "\u001b[1;31mInvalidArgumentException\u001b[0m: Message: invalid argument: File not found : c:\\Users\\gusta\\Projects\\wpp_v1\\envios.xlsx c:\\Users\\gusta\\Projects\\wpp_v1\\envios2.xlsx\n  (Session info: chrome=116.0.5845.140)\nStacktrace:\n\tGetHandleVerifier [0x00007FF7AF8F52A2+57122]\n\t(No symbol) [0x00007FF7AF86EA92]\n\t(No symbol) [0x00007FF7AF73E3AB]\n\t(No symbol) [0x00007FF7AF771CE5]\n\t(No symbol) [0x00007FF7AF796FDA]\n\t(No symbol) [0x00007FF7AF76EB76]\n\t(No symbol) [0x00007FF7AF7971F0]\n\t(No symbol) [0x00007FF7AF7AEB82]\n\t(No symbol) [0x00007FF7AF796DB3]\n\t(No symbol) [0x00007FF7AF76D2B1]\n\t(No symbol) [0x00007FF7AF76E494]\n\tGetHandleVerifier [0x00007FF7AFB9EF82+2849794]\n\tGetHandleVerifier [0x00007FF7AFBF1D24+3189156]\n\tGetHandleVerifier [0x00007FF7AFBEACAF+3160367]\n\tGetHandleVerifier [0x00007FF7AF986D06+653702]\n\t(No symbol) [0x00007FF7AF87A208]\n\t(No symbol) [0x00007FF7AF8762C4]\n\t(No symbol) [0x00007FF7AF8763F6]\n\t(No symbol) [0x00007FF7AF8667A3]\n\tBaseThreadInitThunk [0x00007FFE99C726AD+29]\n\tRtlUserThreadStart [0x00007FFE9B90AA68+40]\n"
     ]
    }
   ],
   "source": [
    "#anexar arquivo\n",
    "\n",
    "#Clicka no botão +\n",
    "driver.find_element(By.CSS_SELECTOR, '#main > footer > div._2lSWV._3cjY2.copyable-area > div > span:nth-child(2) > div > div._2xy_p._1bAtO > div > div > div > div > span').click()\n",
    "time.sleep(1)\n",
    "#Acha o input de arq\n",
    "input_file = driver.find_element(By.CSS_SELECTOR, '#main > footer > div._2lSWV._3cjY2.copyable-area > div > span:nth-child(2) > div > div._2xy_p._1bAtO > div > div > span > div > ul > div > div:nth-child(1) > li > div > input[type=file]')\n",
    "s = os.path.abspath('envios.xlsx') +' '+ os.path.abspath('envios2.xlsx')\n",
    "print(s)\n",
    "input_file.send_keys(s)\n",
    "time.sleep(5)\n",
    "\n",
    "\"\"\"\n",
    "#Acha o input de arq 2\n",
    "input_file2 = driver.find_element(By.CSS_SELECTOR, '#app > div > div > div._2QgSC > div._2Ts6i._2xAQV > span > div > span > div > div > div.g0rxnol2.thghmljt.p357zi0d.rjo8vgbg.ggj6brxn.f8m0rgwh.gfz4du6o.r7fjleex.bs7a17vp.ov67bkzj > div > input[type=file]')\n",
    "input_file2.send_keys(os.path.abspath('envios2.xlsx'))\n",
    "time.sleep(5)\n",
    "\n",
    "#Acha o input de arq 3\n",
    "input_file3 = driver.find_element(By.CSS_SELECTOR, '#app > div > div > div._2QgSC > div._2Ts6i._2xAQV > span > div > span > div > div > div.g0rxnol2.thghmljt.p357zi0d.rjo8vgbg.ggj6brxn.f8m0rgwh.gfz4du6o.r7fjleex.bs7a17vp.ov67bkzj > div > input[type=file]')\n",
    "input_file3.send_keys(os.path.abspath('envios.xlsx'))\n",
    "time.sleep(5)\n",
    "\"\"\"\n",
    "\n",
    "#driver.find_element(By.CSS_SELECTOR, '#app > div > div > div._2QgSC > div._2Ts6i._2xAQV > span > div > span > div > div > div.g0rxnol2.thghmljt.p357zi0d.rjo8vgbg.ggj6brxn.f8m0rgwh.gfz4du6o.r7fjleex.bs7a17vp.ov67bkzj > div > div.O2_ew > div._3wFFT > div > div > span').click()\n"
   ]
  },
  {
   "cell_type": "code",
   "execution_count": 50,
   "metadata": {},
   "outputs": [],
   "source": [
    "import sqlite3\n",
    "from pathlib import Path\n",
    "from selenium.common.exceptions import TimeoutException\n",
    "\n",
    "ROOT_DIR = Path('').parent\n",
    "DB_NAME = 'db.sqlite3'\n",
    "DB_FILE = ROOT_DIR / DB_NAME\n",
    "\n",
    "connection = sqlite3.connect(DB_FILE)\n",
    "cursor = connection.cursor()\n",
    "\n",
    "cursor.execute(f'DELETE FROM COMPRAS')\n",
    "cursor.execute(f'DELETE FROM ENVIOS')\n",
    "cursor.execute(f'INSERT INTO ENVIOS (NOME, TELEFONE) VALUES (\"Cris\",\"5547992912406\") ')\n",
    "cursor.execute(f'INSERT INTO ENVIOS (NOME, TELEFONE) VALUES (\"Erro\",\"55479632992\") ')\n",
    "cursor.execute(f'INSERT INTO ENVIOS (NOME, TELEFONE) VALUES (\"Gustavo\",\"554796329923\") ')\n",
    "\n",
    "\n",
    "connection.commit()\n",
    "\n",
    "cursor.close()\n",
    "connection.close()"
   ]
  }
 ],
 "metadata": {
  "kernelspec": {
   "display_name": "Python 3",
   "language": "python",
   "name": "python3"
  },
  "language_info": {
   "codemirror_mode": {
    "name": "ipython",
    "version": 3
   },
   "file_extension": ".py",
   "mimetype": "text/x-python",
   "name": "python",
   "nbconvert_exporter": "python",
   "pygments_lexer": "ipython3",
   "version": "3.11.5"
  },
  "orig_nbformat": 4
 },
 "nbformat": 4,
 "nbformat_minor": 2
}
